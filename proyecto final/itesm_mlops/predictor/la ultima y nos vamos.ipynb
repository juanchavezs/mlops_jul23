{
 "cells": [
  {
   "cell_type": "code",
   "execution_count": 24,
   "metadata": {},
   "outputs": [
    {
     "data": {
      "text/plain": [
       "'c:\\\\Users\\\\Usuario 1\\\\Desktop\\\\repos\\\\mlops_jul23\\\\proyecto final\\\\itesm_mlops\\\\predictor'"
      ]
     },
     "execution_count": 24,
     "metadata": {},
     "output_type": "execute_result"
    }
   ],
   "source": [
    "import os\n",
    "import sys\n",
    "\n",
    "os.getcwd()"
   ]
  },
  {
   "cell_type": "code",
   "execution_count": 3,
   "metadata": {},
   "outputs": [],
   "source": [
    "# Obtener la ruta absoluta del directorio actual\n",
    "current_dir = os.getcwd()\n",
    "\n",
    "# Obtener la ruta absoluta del directorio padre\n",
    "parent_dir = os.path.dirname(current_dir)\n",
    "\n",
    "# Agregar el directorio padre a sys.path\n",
    "sys.path.append(parent_dir)"
   ]
  },
  {
   "cell_type": "code",
   "execution_count": 6,
   "metadata": {},
   "outputs": [],
   "source": [
    "import pandas as pd"
   ]
  },
  {
   "cell_type": "code",
   "execution_count": 21,
   "metadata": {},
   "outputs": [],
   "source": [
    "json_data = {\n",
    "    \"ID\": 1,\n",
    "    \"Education\": \"Graduation\",\n",
    "    \"Year_Birth\": 1957,\n",
    "    \"Marital_Status\": \"Single\",\n",
    "    \"Income\": 2103,\n",
    "    \"Kidhome\": 0,\n",
    "    \"Teenhome\": 0,\n",
    "    \"Dt_Customer\": \"04-09-2012\",\n",
    "    \"Recency\": 50,\n",
    "    \"MntWines\": 22,\n",
    "    \"MntFruits\": 88,\n",
    "    \"MntMeatProducts\": 546,\n",
    "    \"MntFishProducts\": 172,\n",
    "    \"MntSweetProducts\": 88,\n",
    "    \"MntGoldProds\": 88,\n",
    "    \"NumDealsPurchases\": 3,\n",
    "    \"NumWebPurchases\": 8,\n",
    "    \"NumCatalogPurchases\": 10,\n",
    "    \"NumStorePurchases\": 4,\n",
    "    \"NumWebVisitsMonth\": 7,\n",
    "    \"AcceptedCmp3\": 0,\n",
    "    \"AcceptedCmp4\": 0,\n",
    "    \"AcceptedCmp5\": 0,    \n",
    "    \"AcceptedCmp1\": 0,\n",
    "    \"AcceptedCmp2\": 0,\n",
    "    \"Complain\": 0,\n",
    "    \"Z_CostContact\": 3,\n",
    "    \"Z_Revenue\": 11,\n",
    "    \"Response\": 1\n",
    "}\n",
    "\n",
    "df = pd.DataFrame([json_data])"
   ]
  },
  {
   "cell_type": "code",
   "execution_count": 22,
   "metadata": {},
   "outputs": [],
   "source": [
    "from preprocess.preprocess_data import DataPreprocessor\n",
    "data_transformer = DataPreprocessor()\n",
    "\n",
    "df = pd.DataFrame([json_data])\n",
    "df_transform = data_transformer.feature_generation(df)"
   ]
  },
  {
   "cell_type": "code",
   "execution_count": 23,
   "metadata": {},
   "outputs": [
    {
     "data": {
      "text/plain": [
       "array([1])"
      ]
     },
     "execution_count": 23,
     "metadata": {},
     "output_type": "execute_result"
    }
   ],
   "source": [
    "from predictor.predict_data import LoadAndPredict\n",
    "\n",
    "predictor =LoadAndPredict()\n",
    "\n",
    "predictor.load_kmeans_model(4)\n",
    "predictor.predict_clusters(df,4)"
   ]
  }
 ],
 "metadata": {
  "kernelspec": {
   "display_name": "Python 3",
   "language": "python",
   "name": "python3"
  },
  "language_info": {
   "codemirror_mode": {
    "name": "ipython",
    "version": 3
   },
   "file_extension": ".py",
   "mimetype": "text/x-python",
   "name": "python",
   "nbconvert_exporter": "python",
   "pygments_lexer": "ipython3",
   "version": "3.10.9"
  },
  "orig_nbformat": 4
 },
 "nbformat": 4,
 "nbformat_minor": 2
}
