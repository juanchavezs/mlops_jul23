{
 "cells": [
  {
   "cell_type": "markdown",
   "metadata": {},
   "source": [
    "### 1 data"
   ]
  },
  {
   "cell_type": "code",
   "execution_count": null,
   "metadata": {},
   "outputs": [],
   "source": [
    "# Listo en C:\\Users\\Usuario 1\\Desktop\\repos\\mlops_jul23\\proyecto final\\itesm_mlops\\data\\marketing_campaign.csv"
   ]
  },
  {
   "cell_type": "markdown",
   "metadata": {},
   "source": [
    "### 2 load"
   ]
  },
  {
   "cell_type": "code",
   "execution_count": 2,
   "metadata": {},
   "outputs": [],
   "source": [
    "import pandas as pd\n",
    "import numpy as np\n",
    "import re\n",
    "import os"
   ]
  },
  {
   "cell_type": "code",
   "execution_count": 86,
   "metadata": {},
   "outputs": [],
   "source": [
    "class WebDataRetriever:\n",
    "    \"\"\"\n",
    "    A class for retrieving data from a given URL.\n",
    "\n",
    "    Parameters:\n",
    "        url (str): The URL from which the data will be loaded.\n",
    "\n",
    "    Attributes:\n",
    "        url (str): The URL from which the data will be loaded.\n",
    "\n",
    "    Example usage:\n",
    "    ```\n",
    "    URL = 'https://www.openml.org/data/get_csv/16826755/phpMYEkMl'\n",
    "    data_retriever = WebDataRetriever(URL, DATASETS_DIR)\n",
    "    result = data_retriever.retrieve_data()\n",
    "    print(result)\n",
    "    ```\n",
    "    \"\"\"\n",
    "\n",
    "    DATASETS_DIR = './data/'  # Directory where data will be saved.\n",
    "    RETRIEVED_DATA = 'retrieved_data.csv'  # File name for the retrieved data.\n",
    "\n",
    "    def __init__(self, url, data_path, delimiter_url):\n",
    "        self.url = url\n",
    "        self.DATASETS_DIR = data_path\n",
    "        self.delimiter_url = delimiter_url\n",
    "\n",
    "    def retrieve_data(self):\n",
    "        \"\"\"\n",
    "        Retrieves data from the specified URL, processes it, and stores it in a CSV file.\n",
    "\n",
    "        Returns:\n",
    "            str: A message indicating the location of the stored data.\n",
    "        \"\"\"\n",
    "        # Loading data from specific URL\n",
    "        data = pd.read_csv(self.url , delimiter = self.delimiter_url)\n",
    "\n",
    "        # Create directory if it does not exist\n",
    "        if not os.path.exists(self.DATASETS_DIR):\n",
    "            os.makedirs(self.DATASETS_DIR)\n",
    "            print(f\"Directory '{self.DATASETS_DIR}' created successfully.\")\n",
    "        else:\n",
    "            print(f\"Directory '{self.DATASETS_DIR}' already exists.\")\n",
    "\n",
    "        # Save data to CSV file\n",
    "        data.to_csv(self.DATASETS_DIR + self.RETRIEVED_DATA, index=False)\n",
    "        \n",
    "\n",
    "\n",
    "        return f'Data stored in {self.DATASETS_DIR + self.RETRIEVED_DATA}'"
   ]
  },
  {
   "cell_type": "code",
   "execution_count": 87,
   "metadata": {},
   "outputs": [
    {
     "name": "stdout",
     "output_type": "stream",
     "text": [
      "Directory './data/' already exists.\n",
      "Data stored in ./data/retrieved_data.csv\n"
     ]
    }
   ],
   "source": [
    "# Usage Example:\n",
    "URL = 'https://raw.githubusercontent.com/juanchavezs/mlops_jpcs_proyectofinal/master/marketing_campaign.csv'\n",
    "DELIMITER = '\\t'\n",
    "data_retriever = WebDataRetriever(url= URL, delimiter_url= DELIMITER , data_path= './data/')\n",
    "result = data_retriever.retrieve_data()\n",
    "print(result)"
   ]
  }
 ],
 "metadata": {
  "kernelspec": {
   "display_name": "Python 3",
   "language": "python",
   "name": "python3"
  },
  "language_info": {
   "codemirror_mode": {
    "name": "ipython",
    "version": 3
   },
   "file_extension": ".py",
   "mimetype": "text/x-python",
   "name": "python",
   "nbconvert_exporter": "python",
   "pygments_lexer": "ipython3",
   "version": "3.10.9"
  },
  "orig_nbformat": 4
 },
 "nbformat": 4,
 "nbformat_minor": 2
}
