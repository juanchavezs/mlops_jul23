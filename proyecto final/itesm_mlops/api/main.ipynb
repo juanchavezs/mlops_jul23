{
 "cells": [
  {
   "cell_type": "code",
   "execution_count": 1,
   "metadata": {},
   "outputs": [
    {
     "ename": "NameError",
     "evalue": "name '__file__' is not defined",
     "output_type": "error",
     "traceback": [
      "\u001b[1;31m---------------------------------------------------------------------------\u001b[0m",
      "\u001b[1;31mNameError\u001b[0m                                 Traceback (most recent call last)",
      "Cell \u001b[1;32mIn[1], line 5\u001b[0m\n\u001b[0;32m      2\u001b[0m \u001b[39mimport\u001b[39;00m \u001b[39msys\u001b[39;00m\n\u001b[0;32m      4\u001b[0m \u001b[39m# Add the parent directory to sys.path\u001b[39;00m\n\u001b[1;32m----> 5\u001b[0m current_dir \u001b[39m=\u001b[39m os\u001b[39m.\u001b[39mpath\u001b[39m.\u001b[39mdirname(os\u001b[39m.\u001b[39mpath\u001b[39m.\u001b[39mabspath(\u001b[39m__file__\u001b[39;49m))\n\u001b[0;32m      6\u001b[0m parent_dir \u001b[39m=\u001b[39m os\u001b[39m.\u001b[39mpath\u001b[39m.\u001b[39mabspath(os\u001b[39m.\u001b[39mpath\u001b[39m.\u001b[39mjoin(current_dir, \u001b[39m\"\u001b[39m\u001b[39m..\u001b[39m\u001b[39m\"\u001b[39m))\n\u001b[0;32m      7\u001b[0m sys\u001b[39m.\u001b[39mpath\u001b[39m.\u001b[39mappend(parent_dir)\n",
      "\u001b[1;31mNameError\u001b[0m: name '__file__' is not defined"
     ]
    }
   ],
   "source": [
    "import os\n",
    "import sys\n",
    "\n",
    "# Add the parent directory to sys.path\n",
    "current_dir = os.path.dirname(os.path.abspath(__file__))\n",
    "parent_dir = os.path.abspath(os.path.join(current_dir, \"..\"))\n",
    "sys.path.append(parent_dir)"
   ]
  },
  {
   "cell_type": "code",
   "execution_count": null,
   "metadata": {},
   "outputs": [],
   "source": [
    "__from fastapi import FastAPI\n",
    "from starlette.responses import JSONResponse\n",
    "\n",
    "from predictor.predict import ModelPredictor\n",
    "from .models.models import Titanic\n",
    "\n",
    "app = FastAPI()\n",
    "\n",
    "@app.get('/', status_code=200)\n",
    "async def healthcheck():\n",
    "    return 'Titanic classifier is all ready to go!'\n",
    "\n",
    "@app.post('/predict')\n",
    "def extract_name(titanic_features: Titanic):\n",
    "    predictor = ModelPredictor(\"C:\\Users\\Usuario 1\\Desktop\\repos\\itesm-mlops\\module-3\\session-11\\itesm_mlops\\itesm_mlops\\models\\logistic_regression_output.pkl\")\n",
    "    X = [titanic_features.pclass_nan,\n",
    "        titanic_features.age_nan,\n",
    "        titanic_features.sibsp_nan,\n",
    "        titanic_features.parch_nan,\n",
    "        titanic_features.fare_nan,\n",
    "        titanic_features.sex_male,\n",
    "        titanic_features.cabin_Missing,\n",
    "        titanic_features.cabin_rare,\n",
    "        titanic_features.embarked_Q,\n",
    "        titanic_features.embarked_S,\n",
    "        titanic_features.title_Mr,\n",
    "        titanic_features.title_Mrs,\n",
    "        titanic_features.title_rar]\n",
    "    prediction = predictor.predict([X])\n",
    "    return JSONResponse(f\"Resultado predicción: {prediction}\")\n"
   ]
  }
 ],
 "metadata": {
  "kernelspec": {
   "display_name": "Python 3",
   "language": "python",
   "name": "python3"
  },
  "language_info": {
   "codemirror_mode": {
    "name": "ipython",
    "version": 3
   },
   "file_extension": ".py",
   "mimetype": "text/x-python",
   "name": "python",
   "nbconvert_exporter": "python",
   "pygments_lexer": "ipython3",
   "version": "3.10.9"
  },
  "orig_nbformat": 4
 },
 "nbformat": 4,
 "nbformat_minor": 2
}
